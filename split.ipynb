{
 "cells": [
  {
   "cell_type": "code",
   "execution_count": 1,
   "metadata": {},
   "outputs": [],
   "source": [
    "import os\n",
    "import sklearn.model_selection"
   ]
  },
  {
   "cell_type": "code",
   "execution_count": 2,
   "metadata": {},
   "outputs": [],
   "source": [
    "files = os.listdir('/data1/s3092593/qbert_replays/DQN_modern/Qbert/0/model_00250000')"
   ]
  },
  {
   "cell_type": "code",
   "execution_count": 4,
   "metadata": {},
   "outputs": [],
   "source": [
    "train, test = sklearn.model_selection.train_test_split(files, test_size=0.2)"
   ]
  },
  {
   "cell_type": "code",
   "execution_count": 6,
   "metadata": {},
   "outputs": [],
   "source": [
    "os.makedirs('/data1/s3092593/qbert_replays/DQN_modern/Qbert/0/model_00250000/train')\n",
    "for t in train:\n",
    "    os.rename(f'/data1/s3092593/qbert_replays/DQN_modern/Qbert/0/model_00250000/{t}', f'/data1/s3092593/qbert_replays/DQN_modern/Qbert/0/model_00250000/train/{t}')"
   ]
  },
  {
   "cell_type": "code",
   "execution_count": null,
   "metadata": {},
   "outputs": [],
   "source": [
    "os.makedirs('/data1/s3092593/qbert_replays/DQN_modern/Qbert/0/model_00250000/test')\n",
    "for t in test:\n",
    "    os.rename(f'/data1/s3092593/qbert_replays/DQN_modern/Qbert/0/model_00250000/{t}', f'/data1/s3092593/qbert_replays/DQN_modern/Qbert/0/model_00250000/test/{t}')"
   ]
  }
 ],
 "metadata": {
  "kernelspec": {
   "display_name": "Python 3.8.13",
   "language": "python",
   "name": "python3"
  },
  "language_info": {
   "codemirror_mode": {
    "name": "ipython",
    "version": 3
   },
   "file_extension": ".py",
   "mimetype": "text/x-python",
   "name": "python",
   "nbconvert_exporter": "python",
   "pygments_lexer": "ipython3",
   "version": "3.8.13"
  },
  "orig_nbformat": 4,
  "vscode": {
   "interpreter": {
    "hash": "3a322f3d06714b3d31375f6e0fe0a4842f7836832137eb08d763b2f22f145eb5"
   }
  }
 },
 "nbformat": 4,
 "nbformat_minor": 2
}

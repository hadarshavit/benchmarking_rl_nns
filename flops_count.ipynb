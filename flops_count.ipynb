{
 "cells": [
  {
   "cell_type": "code",
   "execution_count": 31,
   "metadata": {},
   "outputs": [],
   "source": [
    "import torchinfo\n",
    "from torch import nn\n",
    "import pandas as pd"
   ]
  },
  {
   "cell_type": "code",
   "execution_count": 5,
   "metadata": {},
   "outputs": [],
   "source": [
    "from architectures import get_model"
   ]
  },
  {
   "cell_type": "code",
   "execution_count": 46,
   "metadata": {},
   "outputs": [],
   "source": [
    "def get_summary(model_name):\n",
    "    model = get_model(model_name, False, (84, 84))(4, 6, nn.Linear)\n",
    "    s = torchinfo.summary(model, input_size=(1, 4, 84, 84), verbose=0)\n",
    "    return round(s.total_mult_adds / 1e6, 2), round(s.total_params / 1e6, 2)"
   ]
  },
  {
   "cell_type": "code",
   "execution_count": 33,
   "metadata": {},
   "outputs": [],
   "source": [
    "data = []\n",
    "for model in ['nature', 'dueling', 'impala_large:1', 'impala_large:2', 'impala_large:4', 'impalanextv2_large:2']:\n",
    "    data.append([model, *get_summary(model)])"
   ]
  },
  {
   "cell_type": "code",
   "execution_count": 47,
   "metadata": {},
   "outputs": [
    {
     "name": "stdout",
     "output_type": "stream",
     "text": [
      "\\begin{tabular}{lrr}\n",
      "\\toprule\n",
      "               Model &  FLOPs (M) &  Params (M) \\\\\n",
      "\\midrule\n",
      "              nature &       9.37 &        6.44 \\\\\n",
      "             dueling &      10.97 &       12.57 \\\\\n",
      "      impala\\_large:1 &      54.65 &        4.38 \\\\\n",
      "      impala\\_large:2 &     207.63 &        9.49 \\\\\n",
      "      impala\\_large:4 &     808.60 &       21.93 \\\\\n",
      "impalanextv2\\_large:2 &     797.61 &       17.03 \\\\\n",
      "\\bottomrule\n",
      "\\end{tabular}\n",
      "\n"
     ]
    },
    {
     "name": "stderr",
     "output_type": "stream",
     "text": [
      "/tmp/ipykernel_186528/2488875595.py:1: FutureWarning: In future versions `DataFrame.to_latex` is expected to utilise the base implementation of `Styler.to_latex` for formatting and rendering. The arguments signature may therefore change. It is recommended instead to use `DataFrame.style.to_latex` which also contains additional functionality.\n",
      "  print(pd.DataFrame(data, columns=['Model', 'FLOPs (M)', 'Params (M)']).to_latex(index=False))\n"
     ]
    }
   ],
   "source": [
    "print(pd.DataFrame(data, columns=['Model', 'FLOPs (M)', 'Params (M)']).to_latex(index=False))"
   ]
  },
  {
   "cell_type": "code",
   "execution_count": 18,
   "metadata": {},
   "outputs": [
    {
     "data": {
      "text/plain": [
       "9367686"
      ]
     },
     "execution_count": 18,
     "metadata": {},
     "output_type": "execute_result"
    }
   ],
   "source": []
  },
  {
   "cell_type": "code",
   "execution_count": 19,
   "metadata": {},
   "outputs": [
    {
     "data": {
      "text/plain": [
       "6748824"
      ]
     },
     "execution_count": 19,
     "metadata": {},
     "output_type": "execute_result"
    }
   ],
   "source": [
    "s.total_param_bytes"
   ]
  }
 ],
 "metadata": {
  "kernelspec": {
   "display_name": "Python 3",
   "language": "python",
   "name": "python3"
  },
  "language_info": {
   "codemirror_mode": {
    "name": "ipython",
    "version": 3
   },
   "file_extension": ".py",
   "mimetype": "text/x-python",
   "name": "python",
   "nbconvert_exporter": "python",
   "pygments_lexer": "ipython3",
   "version": "3.8.13 (default, Mar 28 2022, 11:38:47) \n[GCC 7.5.0]"
  },
  "orig_nbformat": 4,
  "vscode": {
   "interpreter": {
    "hash": "3a322f3d06714b3d31375f6e0fe0a4842f7836832137eb08d763b2f22f145eb5"
   }
  }
 },
 "nbformat": 4,
 "nbformat_minor": 2
}
